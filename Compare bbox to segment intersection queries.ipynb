{
 "metadata": {
  "name": "Compare bbox to segment intersection queries"
 },
 "nbformat": 3,
 "nbformat_minor": 0,
 "worksheets": [
  {
   "cells": [
    {
     "cell_type": "code",
     "collapsed": false,
     "input": [
      "import pandas as pd # generic data munging\n",
      "from fiona import collection # shapefile import\n",
      "from shapely import geometry # geometry/intersection\n",
      "from rtree import index # libspatial based index\n",
      "from pysal import cg # pysal index\n",
      "import numpy as np\n",
      "\n",
      "import math\n",
      "\n",
      "# define spherical distance function here\n",
      "def computeSphericalDistance(coords1, coords2):\n",
      "    \"\"\"\n",
      "    http://en.wikipedia.org/wiki/Great-circle_distance\n",
      "    \"\"\"\n",
      "    # Define\n",
      "    convertDegreesToRadians = lambda x: x * math.pi / 180\n",
      "    # Load\n",
      "    longitude1, latitude1 = map(convertDegreesToRadians, coords1)\n",
      "    longitude2, latitude2 = map(convertDegreesToRadians, coords2)\n",
      "    # Initialize\n",
      "    longitudeDelta = longitude2 - longitude1\n",
      "    earthRadiusInMeters = 6371010\n",
      "    # Prepare\n",
      "    y = math.sqrt(math.pow(math.cos(latitude2) * math.sin(longitudeDelta), 2) + math.pow(math.cos(latitude1) * math.sin(latitude2) - math.sin(latitude1) * math.cos(latitude2) * math.cos(longitudeDelta), 2))\n",
      "    x = math.sin(latitude1) * math.sin(latitude2) + math.cos(latitude1) * math.cos(latitude2) * math.cos(longitudeDelta)\n",
      "    # Return\n",
      "    return earthRadiusInMeters * math.atan2(y, x)"
     ],
     "language": "python",
     "metadata": {},
     "outputs": [],
     "prompt_number": 21
    },
    {
     "cell_type": "code",
     "collapsed": false,
     "input": [
      "# load demographic data and select only relevant columns with simple names\n",
      "raw_metrics = pd.read_csv('/home/chris/src/SpatialUtils/demographic-details.csv')\n",
      "metrics = raw_metrics[['Name', 'X', 'Y', 'Pop', 'Metric > Maximum length of medium voltage line extension']]\n",
      "metrics.columns = [['name', 'x', 'y', 'pop', 'mvmax']]"
     ],
     "language": "python",
     "metadata": {},
     "outputs": [],
     "prompt_number": 6
    },
    {
     "cell_type": "code",
     "collapsed": false,
     "input": [
      "# Create pair-wise combination of rows relationally (creating the \"candidate segments\")\n",
      "# assign common key to ensure join creates all possible combinations\n",
      "metrics['key'] = 1\n",
      "# assign id so that we can de-dup\n",
      "metrics['id'] = metrics.index\n",
      "metrics_join = pd.merge(metrics, metrics, on='key', suffixes=['_l', '_r'])\n",
      "# This filters out the duplicates (order of pair does not matter here)\n",
      "metrics_pairs = metrics_join.ix[metrics_join['id_l'] > metrics_join['id_r']]"
     ],
     "language": "python",
     "metadata": {},
     "outputs": [],
     "prompt_number": 10
    },
    {
     "cell_type": "code",
     "collapsed": false,
     "input": [
      "# Calculate distances of segments\n",
      "metrics_pairs['dist'] = metrics_pairs.apply(lambda tup: computeSphericalDistance((tup['x_l'], tup['y_l']), (tup['x_r'], tup['y_r'])), axis=1)\n",
      "# Filter out those that don't meet mvmax criteria\n",
      "# NOTE:  In NetworkPlanner, mvmax is continuously updated as segments get added to the network\n",
      "# so this is definitely an underestimate of the # nodes that will pass the test.  Nevertheless,\n",
      "# it should give us a proportional estimate of the reduction in # of intersection tests based on\n",
      "# segments rather than bounding boxes.  \n",
      "candidate_segments = metrics_pairs.ix[(metrics_pairs['mvmax_l'] > metrics_pairs['dist']) & (metrics_pairs['mvmax_r'] > metrics_pairs['dist'])]"
     ],
     "language": "python",
     "metadata": {},
     "outputs": [],
     "prompt_number": 12
    },
    {
     "cell_type": "code",
     "collapsed": false,
     "input": [
      "# TODO:  \n",
      "# create candidate_segments from metrics_pairs via shapely and sort them by length\n",
      "candidate_segments['geom'] = candidate_segments.apply(lambda tup: geometry.LineString([[tup['x_l'], tup['y_l']], [tup['x_r'], tup['y_r']]]), axis=1)\n",
      "# Why does sort assume axis=0 represents rows and apply assumes axis=0 represents columns??\n",
      "candidate_segments.sort(['dist'], axis=0, inplace=True)\n",
      "# Set the index\n",
      "candidate_segments.index = range(len(candidate_segments))"
     ],
     "language": "python",
     "metadata": {},
     "outputs": [],
     "prompt_number": 17
    },
    {
     "cell_type": "code",
     "collapsed": false,
     "input": [
      "# load segments from network-existing into libspatial-based rtree\n",
      "records = collection('/home/chris/src/SpatialUtils/networks-existing.shp', 'r')\n",
      "p = index.Property()\n",
      "p.index_capacity = 10\n",
      "p.leaf_capacity = 10\n",
      "p.near_minimum_overlap_factor = 3\n",
      "rt = index.Index(properties=p)\n",
      "# Load lines into RTree\n",
      "lines = [geometry.shape(record['geometry']) for record in records]\n",
      "for i, geom in enumerate(lines):\n",
      "    rt.insert(i, geom.bounds)"
     ],
     "language": "python",
     "metadata": {},
     "outputs": [],
     "prompt_number": 18
    },
    {
     "cell_type": "code",
     "collapsed": false,
     "input": [
      "# load segments into pysal based rtree (pure python)\n",
      "records = collection('/home/chris/src/SpatialUtils/networks-existing.shp', 'r')\n",
      "lines = [geometry.shape(record['geometry']) for record in records]\n",
      "\n",
      "ps_rt = cg.Rtree()\n",
      "for geom in lines:\n",
      "    ps_rt.insert(geom, cg.Rect(*geom.bounds))"
     ],
     "language": "python",
     "metadata": {},
     "outputs": [],
     "prompt_number": 22
    },
    {
     "cell_type": "code",
     "collapsed": false,
     "input": [
      "# count # of rtree leaf matches for all candidate_segments:\n",
      "#   a) when using bbox intersection test\n",
      "items = candidate_segments.geom.apply(lambda geom: [geometry.box(*item.bbox) for item in rt.intersection(geom.bounds, objects=True)])\n",
      "items_lens = np.array([len(boxes) for boxes in items])\n",
      "\n",
      "items_pysal = candidate_segments.geom.apply(lambda geom: ps_rt.intersection(list(geom.bounds)))\n",
      "items_pysal_lens = np.array([len(boxes) for boxes in items_pysal])\n",
      "\n",
      "assert(sum(items_lens - items_pysal_lens) == 0)"
     ],
     "language": "python",
     "metadata": {},
     "outputs": [],
     "prompt_number": 25
    },
    {
     "cell_type": "code",
     "collapsed": false,
     "input": [
      "#  b) when using segment intersection test\n",
      "#  re-use the bbox intersection results as this will be a sub-set\n",
      "segment_intersect = lambda segment, boxes: [box for box in boxes if segment.intersects(box)]\n",
      "intx_items = candidate_segments.geom.combine(items, segment_intersect)\n",
      "    \n",
      "intx_items_lens = np.array([len(boxes) for boxes in intx_items])"
     ],
     "language": "python",
     "metadata": {},
     "outputs": []
    }
   ],
   "metadata": {}
  }
 ]
}