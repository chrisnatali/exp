{
 "metadata": {
  "name": "Compare RTree Population Methods"
 },
 "nbformat": 3,
 "nbformat_minor": 0,
 "worksheets": [
  {
   "cells": [
    {
     "cell_type": "code",
     "collapsed": false,
     "input": [
      "# setup\n",
      "from fiona import collection\n",
      "from rtree import index\n",
      "from shapely.geometry import shape\n",
      "\n",
      "#load network\n",
      "records = collection('/home/chris/Downloads/np/117/networks-existing.shp', 'r')"
     ],
     "language": "python",
     "metadata": {},
     "outputs": [],
     "prompt_number": 9
    },
    {
     "cell_type": "code",
     "collapsed": false,
     "input": [
      "# Setup RTree to be loaded individually\n",
      "p = index.Property()\n",
      "p.index_capacity = 10\n",
      "p.leaf_capacity = 10\n",
      "p.near_minimum_overlap_factor = 3\n",
      "rt1 = index.Index(properties=p)"
     ],
     "language": "python",
     "metadata": {},
     "outputs": [],
     "prompt_number": 13
    },
    {
     "cell_type": "code",
     "collapsed": false,
     "input": [
      "# Load lines into RTree\n",
      "lines = [shape(record['geometry']) for record in records]\n",
      "for i, geom in enumerate(lines):\n",
      "    rt1.insert(i, geom.bounds)"
     ],
     "language": "python",
     "metadata": {},
     "outputs": [],
     "prompt_number": 14
    },
    {
     "cell_type": "code",
     "collapsed": false,
     "input": [
      "# Setup another RTree to be loaded via constructor\n",
      "# According to RTree authors, this leads to more efficient indexing\n",
      "def id_bounds_gen(geoms):\n",
      "    for i, geom in enumerate(geoms):\n",
      "        yield (i, geom.bounds, None)\n",
      "        \n",
      "rt2 = index.Index(id_bounds_gen(lines), properties=p)"
     ],
     "language": "python",
     "metadata": {},
     "outputs": [],
     "prompt_number": 15
    },
    {
     "cell_type": "code",
     "collapsed": false,
     "input": [
      "# Compare effectiveness of both indexes by the number of\n",
      "# results returned for an intersection test\n",
      "test_bounds = (120.37719141,-8.58795876108, 123.107900089,-8.30389312418)\n",
      "\n",
      "num_results1 = len(list(rt1.intersection(test_bounds, objects=False)))\n",
      "num_results2 = len(list(rt2.intersection(test_bounds, objects=False)))\n",
      "\n",
      "print(\"rtree with inserts post-construction: %s\" % num_results1)\n",
      "print(\"rtree constructed with leaves: %s\" % num_results2)"
     ],
     "language": "python",
     "metadata": {},
     "outputs": [
      {
       "output_type": "stream",
       "stream": "stdout",
       "text": [
        "rtree with inserts post-construction: 4655\n",
        "rtree constructed with leaves: 4655\n"
       ]
      }
     ],
     "prompt_number": 16
    },
    {
     "cell_type": "code",
     "collapsed": false,
     "input": [],
     "language": "python",
     "metadata": {},
     "outputs": []
    }
   ],
   "metadata": {}
  }
 ]
}